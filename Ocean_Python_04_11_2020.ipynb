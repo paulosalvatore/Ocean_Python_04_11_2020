{
  "nbformat": 4,
  "nbformat_minor": 0,
  "metadata": {
    "colab": {
      "name": "Ocean_Python_04_11_2020.ipynb",
      "provenance": [],
      "authorship_tag": "ABX9TyMZ/XBand93/0z3A8hLeHXO",
      "include_colab_link": true
    },
    "kernelspec": {
      "name": "python3",
      "display_name": "Python 3"
    }
  },
  "cells": [
    {
      "cell_type": "markdown",
      "metadata": {
        "id": "view-in-github",
        "colab_type": "text"
      },
      "source": [
        "<a href=\"https://colab.research.google.com/github/paulosalvatore/Ocean_Python_04_11_2020/blob/main/Ocean_Python_04_11_2020.ipynb\" target=\"_parent\"><img src=\"https://colab.research.google.com/assets/colab-badge.svg\" alt=\"Open In Colab\"/></a>"
      ]
    },
    {
      "cell_type": "code",
      "metadata": {
        "id": "mguNch9bCjkU",
        "outputId": "c7c3d523-482a-4f1c-d0d9-d17e4deb46e0",
        "colab": {
          "base_uri": "https://localhost:8080/"
        }
      },
      "source": [
        "import datetime as dt\n",
        "\n",
        "data_criada = dt.datetime.now()\n",
        "\n",
        "print(data_criada)"
      ],
      "execution_count": 22,
      "outputs": [
        {
          "output_type": "stream",
          "text": [
            "2020-11-04 16:33:43.459127\n"
          ],
          "name": "stdout"
        }
      ]
    },
    {
      "cell_type": "code",
      "metadata": {
        "id": "v6JQ3ijMFjiw",
        "outputId": "5e574208-181b-4987-8056-ab8b212e1a1c",
        "colab": {
          "base_uri": "https://localhost:8080/"
        }
      },
      "source": [
        "from datetime import date\n",
        "\n",
        "date.today()"
      ],
      "execution_count": 16,
      "outputs": [
        {
          "output_type": "execute_result",
          "data": {
            "text/plain": [
              "datetime.date(2020, 11, 4)"
            ]
          },
          "metadata": {
            "tags": []
          },
          "execution_count": 16
        }
      ]
    },
    {
      "cell_type": "code",
      "metadata": {
        "id": "jraE7yGaFs5I",
        "outputId": "15f9d8d6-b86c-44cf-d79f-41eaff249358",
        "colab": {
          "base_uri": "https://localhost:8080/"
        }
      },
      "source": [
        "from datetime import datetime as dt\n",
        "\n",
        "data_atual = dt.now()\n",
        "\n",
        "data_atual.month"
      ],
      "execution_count": 23,
      "outputs": [
        {
          "output_type": "execute_result",
          "data": {
            "text/plain": [
              "11"
            ]
          },
          "metadata": {
            "tags": []
          },
          "execution_count": 23
        }
      ]
    },
    {
      "cell_type": "code",
      "metadata": {
        "id": "oyzXL86lG84r"
      },
      "source": [
        "import datetime as dt"
      ],
      "execution_count": 24,
      "outputs": []
    },
    {
      "cell_type": "code",
      "metadata": {
        "id": "lBE_5L9TG-Wp",
        "outputId": "2319fad0-bbef-4425-c11f-58524b8e06e1",
        "colab": {
          "base_uri": "https://localhost:8080/",
          "height": 203
        }
      },
      "source": [
        "today = dt.date.today()\n",
        "\n",
        "today"
      ],
      "execution_count": 28,
      "outputs": [
        {
          "output_type": "error",
          "ename": "AttributeError",
          "evalue": "ignored",
          "traceback": [
            "\u001b[0;31m---------------------------------------------------------------------------\u001b[0m",
            "\u001b[0;31mAttributeError\u001b[0m                            Traceback (most recent call last)",
            "\u001b[0;32m<ipython-input-28-12f0a73d88f1>\u001b[0m in \u001b[0;36m<module>\u001b[0;34m()\u001b[0m\n\u001b[0;32m----> 1\u001b[0;31m \u001b[0mtoday\u001b[0m \u001b[0;34m=\u001b[0m \u001b[0mdt\u001b[0m\u001b[0;34m.\u001b[0m\u001b[0mdate\u001b[0m\u001b[0;34m.\u001b[0m\u001b[0mtoday\u001b[0m\u001b[0;34m(\u001b[0m\u001b[0;34m)\u001b[0m\u001b[0;34m\u001b[0m\u001b[0;34m\u001b[0m\u001b[0m\n\u001b[0m\u001b[1;32m      2\u001b[0m \u001b[0;34m\u001b[0m\u001b[0m\n\u001b[1;32m      3\u001b[0m \u001b[0mtoday\u001b[0m\u001b[0;34m\u001b[0m\u001b[0;34m\u001b[0m\u001b[0m\n",
            "\u001b[0;31mAttributeError\u001b[0m: 'method_descriptor' object has no attribute 'today'"
          ]
        }
      ]
    },
    {
      "cell_type": "code",
      "metadata": {
        "id": "YLgBRNtEHBms"
      },
      "source": [
        "from datetime import datetime as dt"
      ],
      "execution_count": 27,
      "outputs": []
    },
    {
      "cell_type": "code",
      "metadata": {
        "id": "V_NaPX80HPWJ"
      },
      "source": [
        "!pip freeze"
      ],
      "execution_count": null,
      "outputs": []
    },
    {
      "cell_type": "code",
      "metadata": {
        "id": "-aIBKjGQHFYc",
        "outputId": "98007087-c84b-47f6-f2c6-07368c58dcc2",
        "colab": {
          "base_uri": "https://localhost:8080/"
        }
      },
      "source": [
        "from datetime import datetime as dt\n",
        "\n",
        "agora = dt.now()\n",
        "\n",
        "dia_atual = agora.day\n",
        "mes_atual = agora.month\n",
        "ano_atual = agora.year\n",
        "\n",
        "print(f\"{dia_atual}/{mes_atual}/{ano_atual}\")\n",
        "\n",
        "print(agora.tzname())\n",
        "\n",
        "print(agora.strftime('%d/%m/%Y - %a'))\n",
        "\n",
        "\n",
        "print(f'{1:04d}-{2941:04d}-{33:04d}')"
      ],
      "execution_count": 52,
      "outputs": [
        {
          "output_type": "stream",
          "text": [
            "4/11/2020\n",
            "None\n",
            "04/11/2020 - Wed\n",
            "0001-2941-0033\n",
            "1604508283.59159\n"
          ],
          "name": "stdout"
        }
      ]
    },
    {
      "cell_type": "code",
      "metadata": {
        "id": "Ch9GftQUJjfW",
        "outputId": "9cff4313-26b8-48aa-9138-5594e0badeb4",
        "colab": {
          "base_uri": "https://localhost:8080/"
        }
      },
      "source": [
        "# Timestamp é marca de tempo, em segundos, de uma determinada data e hora\n",
        "# Sendo que esse tempo é contado a partir de 1 de janeiro de 1970, até hoje\n",
        "\n",
        "print(agora.timestamp())"
      ],
      "execution_count": 53,
      "outputs": [
        {
          "output_type": "stream",
          "text": [
            "1604508283.59159\n"
          ],
          "name": "stdout"
        }
      ]
    },
    {
      "cell_type": "code",
      "metadata": {
        "id": "f0VDisMGKCwW",
        "outputId": "a9732692-0a44-4ad0-f3df-9d13264d7fa6",
        "colab": {
          "base_uri": "https://localhost:8080/"
        }
      },
      "source": [
        "# Booleanos\n",
        "\n",
        "verdadeiro = True\n",
        "falso = False\n",
        "\n",
        "print(verdadeiro, falso, type(verdadeiro), type(falso))"
      ],
      "execution_count": 54,
      "outputs": [
        {
          "output_type": "stream",
          "text": [
            "True False <class 'bool'> <class 'bool'>\n"
          ],
          "name": "stdout"
        }
      ]
    },
    {
      "cell_type": "code",
      "metadata": {
        "id": "6FnaKnpwKwXW",
        "outputId": "f7d93924-559b-4e99-d89c-7e9d14eb1e32",
        "colab": {
          "base_uri": "https://localhost:8080/"
        }
      },
      "source": [
        "# Lógica Booleana\n",
        "\n",
        "print('1 == 1:', 1 == 1) # É igual a\n",
        "print('1 != 1:', 1 != 1) # Diferente de\n",
        "print('1 < 0:', 1 < 0) # Menor que\n",
        "print('1 <= 0:', 1 <= 0) # Menor que ou igual a\n",
        "print('1 > 1:', 1 > 1) # Maior que\n",
        "print('1 >= 1:', 1 >= 1) # Maior que ou igual a"
      ],
      "execution_count": 57,
      "outputs": [
        {
          "output_type": "stream",
          "text": [
            "1 == 1: True\n",
            "1 != 1: False\n",
            "1 < 0: False\n",
            "1 <= 0: False\n",
            "1 > 1: False\n",
            "1 >= 1: True\n"
          ],
          "name": "stdout"
        }
      ]
    },
    {
      "cell_type": "code",
      "metadata": {
        "id": "7_WaR-m6LaHt",
        "outputId": "f01f8f2d-8e59-4a14-be36-69147f465b06",
        "colab": {
          "base_uri": "https://localhost:8080/"
        }
      },
      "source": [
        "idade = 50\n",
        "\n",
        "maior_idade = idade >= 18\n",
        "\n",
        "maior_idade"
      ],
      "execution_count": 59,
      "outputs": [
        {
          "output_type": "execute_result",
          "data": {
            "text/plain": [
              "True"
            ]
          },
          "metadata": {
            "tags": []
          },
          "execution_count": 59
        }
      ]
    },
    {
      "cell_type": "code",
      "metadata": {
        "id": "egNlEqMVL6ej",
        "outputId": "887a9ac0-ea20-4380-aa23-011144cab230",
        "colab": {
          "base_uri": "https://localhost:8080/"
        }
      },
      "source": [
        "print(5 + 15 == 20)\n",
        "\n",
        "print(\"Rei\" == \"Arthur\")\n",
        "print(\"Rei\" == \"Rei\")\n",
        "\n",
        "print(1 == 1) # True\n",
        "print(1.0 == 1) # True\n",
        "print(1 == \"1\") # False\n",
        "print(type(1.0), type(1), type(\"1\"))"
      ],
      "execution_count": 70,
      "outputs": [
        {
          "output_type": "stream",
          "text": [
            "True\n",
            "False\n",
            "True\n",
            "False\n",
            "<class 'float'> <class 'int'> <class 'str'>\n"
          ],
          "name": "stdout"
        }
      ]
    },
    {
      "cell_type": "code",
      "metadata": {
        "id": "I3YMwDeiNFmL",
        "outputId": "30e4d9a4-7fe9-412a-da59-0ecc8128abf5",
        "colab": {
          "base_uri": "https://localhost:8080/"
        }
      },
      "source": [
        "# Operador 'not' (em outras linguagens também é conhecido como ! (ponto de exclamação))\n",
        "# A função dele é inverter o sinal de um booleano\n",
        "# not True, transforma o True em False\n",
        "# not False, transforma o False em True\n",
        "\n",
        "print(not True) # False\n",
        "print(not False) # True"
      ],
      "execution_count": 72,
      "outputs": [
        {
          "output_type": "stream",
          "text": [
            "False\n",
            "True\n"
          ],
          "name": "stdout"
        }
      ]
    },
    {
      "cell_type": "code",
      "metadata": {
        "id": "62-qUFDbNVPy",
        "outputId": "7579f933-4c1b-4ea2-fc3e-eeb10702de0a",
        "colab": {
          "base_uri": "https://localhost:8080/"
        }
      },
      "source": [
        "idade = 30\n",
        "\n",
        "maior_idade = idade >= 18\n",
        "menor_idade = not maior_idade\n",
        "\n",
        "print(idade, maior_idade, menor_idade)"
      ],
      "execution_count": 74,
      "outputs": [
        {
          "output_type": "stream",
          "text": [
            "30 True False\n"
          ],
          "name": "stdout"
        }
      ]
    },
    {
      "cell_type": "code",
      "metadata": {
        "id": "74hOCcNSNwHS",
        "outputId": "398bd5ef-15f9-40f0-f867-ff2d763e1861",
        "colab": {
          "base_uri": "https://localhost:8080/"
        }
      },
      "source": [
        "# Operador and: É usado em comparações de booleanos\n",
        "# Para que o resultado de uma operação com 'and' seja True, todos os lados precisam ser True\n",
        "\n",
        "print(True and True) # True\n",
        "print(True and False) # False\n",
        "print(False and False) # False\n",
        "print(True and True and True) # True\n",
        "print(True and True and False) # False\n",
        "\n",
        "print(not (True and False)) # True\n",
        "print(not True and False) # False\n",
        "print(False == False) # True\n",
        "print(True and (True != False))\n",
        "print((True and True) != False)"
      ],
      "execution_count": 83,
      "outputs": [
        {
          "output_type": "stream",
          "text": [
            "True\n",
            "False\n",
            "False\n",
            "True\n",
            "False\n",
            "True\n",
            "False\n",
            "True\n",
            "True\n",
            "True\n"
          ],
          "name": "stdout"
        }
      ]
    },
    {
      "cell_type": "code",
      "metadata": {
        "id": "BMvhYIjxPmvT",
        "outputId": "4e2a9919-8b8f-4ae8-8efe-4dc74a9ca61e",
        "colab": {
          "base_uri": "https://localhost:8080/"
        }
      },
      "source": [
        "# Operador 'or' -> Apenas um dos lados precisa ser True\n",
        "\n",
        "print(True or False) # True\n",
        "print(False or False) # False\n",
        "print(True or True) # True\n",
        "\n",
        "print(not False or False) # True\n",
        "\n",
        "print(not False and True or True) # True\n",
        "print(not False and False or True) # True\n",
        "\n",
        "print(not True and False or True) # True\n",
        "print(not True and (False or True)) # False"
      ],
      "execution_count": 91,
      "outputs": [
        {
          "output_type": "stream",
          "text": [
            "True\n",
            "False\n",
            "True\n",
            "True\n",
            "True\n",
            "True\n",
            "True\n",
            "False\n"
          ],
          "name": "stdout"
        }
      ]
    },
    {
      "cell_type": "code",
      "metadata": {
        "id": "zb2Q86IjRGc_",
        "outputId": "9b5e71b5-53d0-4975-a7f1-7b90073ea3ac",
        "colab": {
          "base_uri": "https://localhost:8080/"
        }
      },
      "source": [
        "# Declarações if, elif (else if) e else\n",
        "# if: representa 'se'. Se algo for igual a True\n",
        "# elif: el representa 'caso contrário', juntando com o 'if', representa 'caso contrário, se'.\n",
        "# Ele ocorre quando a condição do if for igual a False, e a condição do 'elif' for igual a True\n",
        "# else: representa 'caso contrário', ou seja, quando todos as condições de if/elif anteriores não ocorreram\n",
        "\n",
        "# O if é o único que pode ser declarado sozinho\n",
        "# Todos os outros precisam vir na sequência e eles são opcionais\n",
        "\n",
        "if True:\n",
        "  print(\"Esse if será lido.\")\n",
        "\n",
        "if False:\n",
        "  print(\"Esse if nunca será lido.\")"
      ],
      "execution_count": 92,
      "outputs": [
        {
          "output_type": "stream",
          "text": [
            "Esse será lido.\n"
          ],
          "name": "stdout"
        }
      ]
    },
    {
      "cell_type": "code",
      "metadata": {
        "id": "OKTfAMaXRsMI",
        "outputId": "d7867751-ed65-497c-e908-85e01e5ffef1",
        "colab": {
          "base_uri": "https://localhost:8080/"
        }
      },
      "source": [
        "if False:\n",
        "  print(\"Esse if nunca será lido.\")\n",
        "else:\n",
        "  print(\"Esse else será lido.\")"
      ],
      "execution_count": 93,
      "outputs": [
        {
          "output_type": "stream",
          "text": [
            "Esse else será lido.\n"
          ],
          "name": "stdout"
        }
      ]
    },
    {
      "cell_type": "code",
      "metadata": {
        "id": "l-DEQ2vdR9e3",
        "outputId": "47ded7f4-5dc4-497c-c5f3-9aadf3614787",
        "colab": {
          "base_uri": "https://localhost:8080/"
        }
      },
      "source": [
        "if False:\n",
        "  print(\"Esse if nunca será lido.\")\n",
        "elif True:\n",
        "  print(\"Esse elif será lido.\")\n",
        "else:\n",
        "  print(\"Esse else nunca será lido.\")"
      ],
      "execution_count": 94,
      "outputs": [
        {
          "output_type": "stream",
          "text": [
            "Esse elif será lido.\n"
          ],
          "name": "stdout"
        }
      ]
    },
    {
      "cell_type": "code",
      "metadata": {
        "id": "vUzj1VxnSNgH",
        "outputId": "8c07350d-da58-40d3-feb3-a43c52c678f7",
        "colab": {
          "base_uri": "https://localhost:8080/"
        }
      },
      "source": [
        "if False:\n",
        "  print(\"Esse if nunca será lido.\")\n",
        "elif False:\n",
        "  print(\"Esse elif 1 nunca será lido.\")\n",
        "elif True:\n",
        "  print(\"Esse elif 2 será lido.\")\n",
        "else:\n",
        "  print(\"Esse else nunca será lido.\")"
      ],
      "execution_count": 96,
      "outputs": [
        {
          "output_type": "stream",
          "text": [
            "Esse elif 2 será lido.\n"
          ],
          "name": "stdout"
        }
      ]
    },
    {
      "cell_type": "code",
      "metadata": {
        "id": "Wx3ZDWNVSaVP",
        "outputId": "7ca5c099-0525-415d-ec50-32433049d1d0",
        "colab": {
          "base_uri": "https://localhost:8080/"
        }
      },
      "source": [
        "sexo = 'feminino'\n",
        "idade = 30\n",
        "\n",
        "maior_idade = idade >= 18\n",
        "menor_idade = not maior_idade\n",
        "\n",
        "print(idade, type(idade), maior_idade, type(maior_idade))\n",
        "\n",
        "if maior_idade:\n",
        "  print(\"A pessoa é maior de idade.\")\n",
        "elif menor_idade:\n",
        "  print(\"A pessoa é menor de idade.\")\n",
        "\n",
        "if menor_idade:\n",
        "  print(\"If separado, apenas para os casos em que a pessoa é menor de idade\")\n",
        "\n",
        "if not maior_idade:\n",
        "  print(\"Menor de idade\")\n",
        "\n",
        "\n",
        "if sexo == 'feminino' and maior_idade:\n",
        "  print(\"Essa pessoa é do sexo feminino e é maior de idade.\")"
      ],
      "execution_count": 108,
      "outputs": [
        {
          "output_type": "stream",
          "text": [
            "30 <class 'int'> True <class 'bool'>\n",
            "A pessoa é maior de idade.\n",
            "Essa pessoa é do sexo feminino e é maior de idade.\n"
          ],
          "name": "stdout"
        }
      ]
    },
    {
      "cell_type": "code",
      "metadata": {
        "id": "6yWM2z4mTk9c",
        "outputId": "f1dda7fe-4328-435e-cfbe-fa7220760a5e",
        "colab": {
          "base_uri": "https://localhost:8080/"
        }
      },
      "source": [
        "preferencia_musical = \"eletrônico\"\n",
        "\n",
        "if preferencia_musical == \"rock\" or preferencia_musical == \"rap\":\n",
        "  print(\"Essa pessoa curte rock ou rap.\")\n",
        "else:\n",
        "  print(\"Essa pessoa curte outro gênero musical.\")"
      ],
      "execution_count": 126,
      "outputs": [
        {
          "output_type": "stream",
          "text": [
            "Essa pessoa curte outro gênero musical.\n"
          ],
          "name": "stdout"
        }
      ]
    }
  ]
}